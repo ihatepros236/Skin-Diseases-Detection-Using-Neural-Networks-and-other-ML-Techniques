{
  "nbformat": 4,
  "nbformat_minor": 0,
  "metadata": {
    "colab": {
      "provenance": [],
      "gpuType": "A100",
      "authorship_tag": "ABX9TyOQZjQc0VH1LCIPPvycJ5dA",
      "include_colab_link": true
    },
    "kernelspec": {
      "name": "python3",
      "display_name": "Python 3"
    },
    "language_info": {
      "name": "python"
    }
  },
  "cells": [
    {
      "cell_type": "markdown",
      "metadata": {
        "id": "view-in-github",
        "colab_type": "text"
      },
      "source": [
        "<a href=\"https://colab.research.google.com/github/ihatepros236/Skin-Diseases-Detection-Using-Neural-Networks-and-other-ML-Techniques/blob/main/Dermascopic.ipynb\" target=\"_parent\"><img src=\"https://colab.research.google.com/assets/colab-badge.svg\" alt=\"Open In Colab\"/></a>"
      ]
    },
    {
      "cell_type": "code",
      "execution_count": null,
      "metadata": {
        "id": "LmMAv78K1OpT",
        "colab": {
          "base_uri": "https://localhost:8080/"
        },
        "outputId": "4331dc03-4b5f-4357-d46e-b1f42193ad7c"
      },
      "outputs": [
        {
          "output_type": "stream",
          "name": "stdout",
          "text": [
            "Drive already mounted at /content/drive; to attempt to forcibly remount, call drive.mount(\"/content/drive\", force_remount=True).\n",
            "Files extracted\n"
          ]
        }
      ],
      "source": [
        "from google.colab import drive\n",
        "import zipfile\n",
        "import os\n",
        "\n",
        "# This will prompt for authorization.\n",
        "drive.mount('/content/drive')\n",
        "\n",
        "# Make sure the drive is mounted\n",
        "if not os.path.isdir('/content/drive'):\n",
        "    print(\"Drive not mounted. Please mount the drive.\")\n",
        "\n",
        "# Provide the exact path to the zip file\n",
        "zip_file_path = '/content/drive/MyDrive/Colab Notebooks/Cancer.zip'\n",
        "\n",
        "# Destination folder where contents will be extracted\n",
        "# Make sure this folder exists\n",
        "extracted_folder = '/content/drive/MyDrive/Colab Notebooks/Cancerdata'\n",
        "\n",
        "# Check if the extracted_folder already contains the unzipped data. If not, proceed with unzipping\n",
        "if not os.path.exists(extracted_folder):\n",
        "    os.makedirs(extracted_folder)\n",
        "\n",
        "# If the data has already been extracted, you can skip this step\n",
        "if not os.listdir(extracted_folder):\n",
        "    with zipfile.ZipFile(zip_file_path, 'r') as zip_ref:\n",
        "        # Extract all the contents of zip file in current directory\n",
        "        zip_ref.extractall(extracted_folder)\n",
        "    print(\"Files extracted\")\n",
        "else:\n",
        "    print(\"Data already extracted\")\n"
      ]
    },
    {
      "cell_type": "code",
      "source": [
        "!cp -r '/content/drive/MyDrive/Colab Notebooks/Cancerdata' '/content/Cancerdata'\n"
      ],
      "metadata": {
        "id": "VIjWOZFK4pM3"
      },
      "execution_count": null,
      "outputs": []
    },
    {
      "cell_type": "code",
      "source": [
        "import pandas as pd\n",
        "import os\n",
        "\n",
        "# Path to the extracted data folder\n",
        "data_folder = '/content/Cancerdata'\n",
        "\n",
        "# CSV file path\n",
        "csv_file_path = os.path.join(data_folder, '/content/Cancerdata/HAM10000_metadata.csv')\n",
        "\n",
        "# Load the metadata into a pandas DataFrame\n",
        "metadata = pd.read_csv(csv_file_path)\n",
        "\n",
        "# Print the first few rows to make sure it's loaded correctly\n",
        "print(metadata.head())"
      ],
      "metadata": {
        "colab": {
          "base_uri": "https://localhost:8080/"
        },
        "id": "crLNj8-96WZp",
        "outputId": "3f57a047-dff4-4fe7-9598-8362d21284fd"
      },
      "execution_count": null,
      "outputs": [
        {
          "output_type": "stream",
          "name": "stdout",
          "text": [
            "     lesion_id      image_id   dx dx_type   age   sex localization\n",
            "0  HAM_0000118  ISIC_0027419  bkl   histo  80.0  male        scalp\n",
            "1  HAM_0000118  ISIC_0025030  bkl   histo  80.0  male        scalp\n",
            "2  HAM_0002730  ISIC_0026769  bkl   histo  80.0  male        scalp\n",
            "3  HAM_0002730  ISIC_0025661  bkl   histo  80.0  male        scalp\n",
            "4  HAM_0001466  ISIC_0031633  bkl   histo  75.0  male          ear\n"
          ]
        }
      ]
    },
    {
      "cell_type": "code",
      "source": [
        "from glob import glob\n",
        "\n",
        "# Base directories of your images\n",
        "image_dir1 = os.path.join(data_folder, 'HAM10000_images_part_1')\n",
        "image_dir2 = os.path.join(data_folder, 'HAM10000_images_part_2')\n",
        "\n",
        "# Dictionary to map image IDs to their corresponding file paths\n",
        "imageid_path_dict = {\n",
        "    os.path.splitext(os.path.basename(x))[0]: x\n",
        "    for x in glob(os.path.join(image_dir1, '*.jpg')) + glob(os.path.join(image_dir2, '*.jpg'))\n",
        "}\n",
        "\n",
        "# Confirm that the directories exist\n",
        "print(os.path.exists(image_dir1))\n",
        "print(os.path.exists(image_dir2))\n",
        "\n",
        "# List a few files in the directories\n",
        "print(os.listdir(image_dir1)[:5])  # Print first 5 files in directory 1\n",
        "print(os.listdir(image_dir2)[:5])  # Print first 5 files in directory 2\n",
        "\n"
      ],
      "metadata": {
        "colab": {
          "base_uri": "https://localhost:8080/"
        },
        "id": "xre3gfcsGNUt",
        "outputId": "a131b839-ef11-45dd-ad45-b628f3fca907"
      },
      "execution_count": null,
      "outputs": [
        {
          "output_type": "stream",
          "name": "stdout",
          "text": [
            "True\n",
            "True\n",
            "['ISIC_0024771.jpg', 'ISIC_0028450.jpg', 'ISIC_0027523.jpg', 'ISIC_0026787.jpg', 'ISIC_0027601.jpg']\n",
            "['ISIC_0033416.jpg', 'ISIC_0031333.jpg', 'ISIC_0032566.jpg', 'ISIC_0030788.jpg', 'ISIC_0033986.jpg']\n"
          ]
        }
      ]
    },
    {
      "cell_type": "code",
      "source": [
        "# Map the image IDs in the DataFrame to their paths using the dictionary we created earlier\n",
        "metadata['path'] = metadata['image_id'].map(imageid_path_dict.get)\n",
        "\n",
        "# Print the first few rows to confirm\n",
        "print(metadata.head())\n"
      ],
      "metadata": {
        "colab": {
          "base_uri": "https://localhost:8080/"
        },
        "id": "qOyYdmKmHR9A",
        "outputId": "22e37dc9-1e18-4b88-f4fd-7dd08b8a0e8b"
      },
      "execution_count": null,
      "outputs": [
        {
          "output_type": "stream",
          "name": "stdout",
          "text": [
            "     lesion_id      image_id   dx dx_type   age   sex localization  \\\n",
            "0  HAM_0000118  ISIC_0027419  bkl   histo  80.0  male        scalp   \n",
            "1  HAM_0000118  ISIC_0025030  bkl   histo  80.0  male        scalp   \n",
            "2  HAM_0002730  ISIC_0026769  bkl   histo  80.0  male        scalp   \n",
            "3  HAM_0002730  ISIC_0025661  bkl   histo  80.0  male        scalp   \n",
            "4  HAM_0001466  ISIC_0031633  bkl   histo  75.0  male          ear   \n",
            "\n",
            "                                                path  \n",
            "0  /content/Cancerdata/HAM10000_images_part_1/ISI...  \n",
            "1  /content/Cancerdata/HAM10000_images_part_1/ISI...  \n",
            "2  /content/Cancerdata/HAM10000_images_part_1/ISI...  \n",
            "3  /content/Cancerdata/HAM10000_images_part_1/ISI...  \n",
            "4  /content/Cancerdata/HAM10000_images_part_2/ISI...  \n"
          ]
        }
      ]
    },
    {
      "cell_type": "code",
      "source": [
        "print(metadata.isnull().sum())\n",
        "# Fill missing 'age' values with median\n",
        "metadata['age'].fillna(metadata['age'].median(), inplace=True)\n",
        "\n"
      ],
      "metadata": {
        "colab": {
          "base_uri": "https://localhost:8080/"
        },
        "id": "nOA_cIU_HZgB",
        "outputId": "77367d14-c2a9-41a9-f4c1-7ac8c2c0199e"
      },
      "execution_count": null,
      "outputs": [
        {
          "output_type": "stream",
          "name": "stdout",
          "text": [
            "lesion_id        0\n",
            "image_id         0\n",
            "dx               0\n",
            "dx_type          0\n",
            "age             57\n",
            "sex              0\n",
            "localization     0\n",
            "path             0\n",
            "dtype: int64\n",
            "lesion_id       0\n",
            "image_id        0\n",
            "dx              0\n",
            "dx_type         0\n",
            "age             0\n",
            "sex             0\n",
            "localization    0\n",
            "path            0\n",
            "dtype: int64\n"
          ]
        }
      ]
    },
    {
      "cell_type": "code",
      "source": [
        "from tensorflow.keras.utils import load_img\n",
        "from keras.utils import to_categorical\n",
        "from sklearn.preprocessing import LabelEncoder\n",
        "from tqdm import tqdm\n",
        "import numpy as np\n",
        "\n",
        "\n",
        "# Size to resize our images to\n",
        "img_width, img_height = 150, 150\n",
        "\n",
        "# Initialize empty lists to hold our images and labels\n",
        "images = []\n",
        "labels = []\n",
        "\n",
        "# Loop over the DataFrame, load each image, resize it, convert it to array, and append it to images\n",
        "for index, row in tqdm(metadata.iterrows(), total=metadata.shape[0]):\n",
        "    img = load_img(row['path'], target_size=(img_width, img_height))\n",
        "    img = img_to_array(img)\n",
        "    images.append(img)\n",
        "\n",
        "    # Append the label to labels\n",
        "    labels.append(row['dx'])\n",
        "\n",
        "# Convert images list to array\n",
        "images = np.array(images)\n",
        "images = images / 255\n",
        "# Use LabelEncoder to convert labels to numerical values\n",
        "le = LabelEncoder()\n",
        "labels = le.fit_transform(labels)\n",
        "\n",
        "# Use to_categorical to one-hot encode labels\n",
        "labels = to_categorical(labels)\n"
      ],
      "metadata": {
        "colab": {
          "base_uri": "https://localhost:8080/"
        },
        "id": "DkyNMRYuHmal",
        "outputId": "caf8feed-cb34-4067-a72b-fa8632618469"
      },
      "execution_count": null,
      "outputs": [
        {
          "output_type": "stream",
          "name": "stderr",
          "text": [
            "100%|██████████| 10015/10015 [00:56<00:00, 176.58it/s]\n"
          ]
        }
      ]
    },
    {
      "cell_type": "code",
      "source": [
        "from sklearn.model_selection import train_test_split\n",
        "\n",
        "# Splitting the data into train, validation, and test sets\n",
        "X_temp, X_test, y_temp, y_test = train_test_split(images, labels, test_size=0.08, stratify=labels, random_state=42)\n",
        "\n",
        "# From the remaining data, we will split again into training and validation sets\n",
        "X_train, X_val, y_train, y_val = train_test_split(X_temp, y_temp, test_size=0.076, stratify=y_temp, random_state=42)\n",
        "\n",
        "print(f\"Train data shape: {X_train.shape} - {y_train.shape}\")\n",
        "print(f\"Validation data shape: {X_val.shape} - {y_val.shape}\")\n",
        "print(f\"Test data shape: {X_test.shape} - {y_test.shape}\")\n"
      ],
      "metadata": {
        "colab": {
          "base_uri": "https://localhost:8080/"
        },
        "id": "ycIzHrCrIkb9",
        "outputId": "b6c4f545-c014-4ec4-d266-13a5b8e708fd"
      },
      "execution_count": null,
      "outputs": [
        {
          "output_type": "stream",
          "name": "stdout",
          "text": [
            "Train data shape: (8512, 150, 150, 3) - (8512, 7)\n",
            "Validation data shape: (701, 150, 150, 3) - (701, 7)\n",
            "Test data shape: (802, 150, 150, 3) - (802, 7)\n"
          ]
        }
      ]
    },
    {
      "cell_type": "code",
      "source": [
        "from tensorflow.keras.applications import Xception\n",
        "from tensorflow.keras.layers import Dense, Flatten\n",
        "from tensorflow.keras.models import Model\n",
        "from tensorflow.keras.optimizers import Adam\n",
        "from tensorflow.keras.utils import to_categorical\n",
        "from tensorflow.keras.callbacks import ModelCheckpoint\n",
        "from tensorflow.keras.preprocessing.image import ImageDataGenerator\n",
        "from sklearn.model_selection import train_test_split\n",
        "import numpy as np\n",
        "\n",
        "\n",
        "# Define your data augmentation\n",
        "train_datagen = ImageDataGenerator(\n",
        "    rotation_range=20,       # randomly rotate images in the range\n",
        "    width_shift_range=0.2,   # randomly shift images horizontally\n",
        "    height_shift_range=0.2,  # randomly shift images vertically\n",
        "    horizontal_flip=True,    # randomly flip images\n",
        "    zoom_range=0.1\n",
        "\n",
        ")\n",
        "\n",
        "val_datagen = ImageDataGenerator()\n",
        "\n",
        "# Initialize the model\n",
        "base_model = Xception(weights='imagenet', include_top=False, input_shape=(150, 150, 3))\n",
        "\n",
        "for layer in base_model.layers:\n",
        "    layer.trainable = False\n",
        "\n",
        "x = Flatten()(base_model.output)\n",
        "x = Dense(1024, activation='relu')(x)\n",
        "predictions = Dense(7, activation='softmax', kernel_regularizer=tf.keras.regularizers.l2(0.01))(x)\n",
        "\n",
        "model = Model(inputs=base_model.input, outputs=predictions)\n",
        "\n",
        "# Define optimizer\n",
        "optimizer = tf.keras.optimizers.legacy.Adam(lr=0.001, beta_1=0.9, beta_2=0.999, epsilon=1e-07, decay=0.0, amsgrad=False)\n",
        "\n",
        "\n",
        "model.compile(optimizer=optimizer, loss='categorical_crossentropy', metrics=['accuracy'])\n",
        "\n",
        "# Specify where to save the model with the best validation accuracy.\n",
        "model_checkpoint_callback = ModelCheckpoint(\n",
        "    filepath=\"best_model.hdf5\",\n",
        "    save_weights_only=False,\n",
        "    monitor='val_accuracy',\n",
        "    mode='max',\n",
        "    save_best_only=True)\n",
        "\n",
        "# Fit the model\n",
        "model.fit(\n",
        "    train_datagen.flow(X_train, y_train, batch_size=400),\n",
        "    steps_per_epoch=len(X_train) // 400,\n",
        "    epochs=20,\n",
        "    validation_data=val_datagen.flow(X_val, y_val, batch_size=400),\n",
        "    validation_steps=len(X_val) // 400,\n",
        "    callbacks=[model_checkpoint_callback]  # Add the callbacks here\n",
        ")\n"
      ],
      "metadata": {
        "colab": {
          "base_uri": "https://localhost:8080/"
        },
        "id": "o49PAm3iLbFb",
        "outputId": "953fbe78-e7da-4e2a-a68a-34176917b590"
      },
      "execution_count": null,
      "outputs": [
        {
          "output_type": "stream",
          "name": "stderr",
          "text": [
            "/usr/local/lib/python3.10/dist-packages/keras/optimizers/legacy/adam.py:117: UserWarning: The `lr` argument is deprecated, use `learning_rate` instead.\n",
            "  super().__init__(name, **kwargs)\n"
          ]
        },
        {
          "output_type": "stream",
          "name": "stdout",
          "text": [
            "Epoch 1/20\n",
            "21/21 [==============================] - 42s 2s/step - loss: 12.1272 - accuracy: 0.5867 - val_loss: 1.8862 - val_accuracy: 0.6250\n",
            "Epoch 2/20\n",
            "21/21 [==============================] - 39s 2s/step - loss: 1.3806 - accuracy: 0.6864 - val_loss: 0.9423 - val_accuracy: 0.7300\n",
            "Epoch 3/20\n",
            "21/21 [==============================] - 38s 2s/step - loss: 0.9411 - accuracy: 0.7157 - val_loss: 0.8940 - val_accuracy: 0.7150\n",
            "Epoch 4/20\n",
            "21/21 [==============================] - 38s 2s/step - loss: 0.8638 - accuracy: 0.7263 - val_loss: 0.8831 - val_accuracy: 0.7125\n",
            "Epoch 5/20\n",
            "21/21 [==============================] - 38s 2s/step - loss: 0.8642 - accuracy: 0.7225 - val_loss: 0.9186 - val_accuracy: 0.7300\n",
            "Epoch 6/20\n",
            "21/21 [==============================] - 39s 2s/step - loss: 0.8095 - accuracy: 0.7395 - val_loss: 0.8418 - val_accuracy: 0.7375\n",
            "Epoch 7/20\n",
            "21/21 [==============================] - 38s 2s/step - loss: 0.7858 - accuracy: 0.7398 - val_loss: 0.8543 - val_accuracy: 0.7300\n",
            "Epoch 8/20\n",
            "21/21 [==============================] - 38s 2s/step - loss: 0.7689 - accuracy: 0.7501 - val_loss: 0.8220 - val_accuracy: 0.7275\n",
            "Epoch 9/20\n",
            "21/21 [==============================] - 38s 2s/step - loss: 0.7464 - accuracy: 0.7539 - val_loss: 0.8736 - val_accuracy: 0.7200\n",
            "Epoch 10/20\n",
            "21/21 [==============================] - 38s 2s/step - loss: 0.7471 - accuracy: 0.7521 - val_loss: 0.8484 - val_accuracy: 0.7250\n",
            "Epoch 11/20\n",
            "21/21 [==============================] - 38s 2s/step - loss: 0.7389 - accuracy: 0.7583 - val_loss: 0.8547 - val_accuracy: 0.7150\n",
            "Epoch 12/20\n",
            "21/21 [==============================] - 38s 2s/step - loss: 0.7363 - accuracy: 0.7544 - val_loss: 0.8983 - val_accuracy: 0.6975\n",
            "Epoch 13/20\n",
            "21/21 [==============================] - 39s 2s/step - loss: 0.7212 - accuracy: 0.7586 - val_loss: 0.8168 - val_accuracy: 0.7100\n",
            "Epoch 14/20\n",
            "21/21 [==============================] - 38s 2s/step - loss: 0.7165 - accuracy: 0.7608 - val_loss: 0.8090 - val_accuracy: 0.7300\n",
            "Epoch 15/20\n",
            "21/21 [==============================] - 38s 2s/step - loss: 0.6901 - accuracy: 0.7617 - val_loss: 0.8282 - val_accuracy: 0.7325\n",
            "Epoch 16/20\n",
            "21/21 [==============================] - 38s 2s/step - loss: 0.6893 - accuracy: 0.7654 - val_loss: 0.7423 - val_accuracy: 0.7375\n",
            "Epoch 17/20\n",
            "21/21 [==============================] - 39s 2s/step - loss: 0.6909 - accuracy: 0.7633 - val_loss: 0.7666 - val_accuracy: 0.7475\n",
            "Epoch 18/20\n",
            "21/21 [==============================] - 38s 2s/step - loss: 0.6725 - accuracy: 0.7682 - val_loss: 0.8733 - val_accuracy: 0.6875\n",
            "Epoch 19/20\n",
            "21/21 [==============================] - 39s 2s/step - loss: 0.6680 - accuracy: 0.7754 - val_loss: 0.7760 - val_accuracy: 0.7500\n",
            "Epoch 20/20\n",
            "21/21 [==============================] - 38s 2s/step - loss: 0.6484 - accuracy: 0.7753 - val_loss: 0.7043 - val_accuracy: 0.7500\n"
          ]
        },
        {
          "output_type": "execute_result",
          "data": {
            "text/plain": [
              "<keras.callbacks.History at 0x7fec599a73d0>"
            ]
          },
          "metadata": {},
          "execution_count": 27
        }
      ]
    },
    {
      "cell_type": "code",
      "source": [
        "# Continue training the model for 5 more epochs\n",
        "model.fit(\n",
        "    train_datagen.flow(X_train, y_train, batch_size=400),\n",
        "    steps_per_epoch=len(X_train) // 400,\n",
        "    epochs=5,\n",
        "    validation_data=val_datagen.flow(X_val, y_val, batch_size=400),\n",
        "    validation_steps=len(X_val) // 400,\n",
        "    callbacks=[model_checkpoint_callback]  # Add the callbacks here\n",
        ")\n"
      ],
      "metadata": {
        "colab": {
          "base_uri": "https://localhost:8080/"
        },
        "id": "ZIk6EnktWK4X",
        "outputId": "3f611017-0fa6-4ca8-82db-bab4aa3cf5f7"
      },
      "execution_count": null,
      "outputs": [
        {
          "output_type": "stream",
          "name": "stdout",
          "text": [
            "Epoch 1/5\n",
            "21/21 [==============================] - 40s 2s/step - loss: 0.6557 - accuracy: 0.7818 - val_loss: 0.7378 - val_accuracy: 0.7675\n",
            "Epoch 2/5\n",
            "21/21 [==============================] - 38s 2s/step - loss: 0.6312 - accuracy: 0.7813 - val_loss: 0.8318 - val_accuracy: 0.7200\n",
            "Epoch 3/5\n",
            "21/21 [==============================] - 38s 2s/step - loss: 0.6376 - accuracy: 0.7807 - val_loss: 0.8201 - val_accuracy: 0.7450\n",
            "Epoch 4/5\n",
            "21/21 [==============================] - 38s 2s/step - loss: 0.6438 - accuracy: 0.7774 - val_loss: 0.7903 - val_accuracy: 0.7300\n",
            "Epoch 5/5\n",
            "21/21 [==============================] - 38s 2s/step - loss: 0.6322 - accuracy: 0.7754 - val_loss: 0.7717 - val_accuracy: 0.7300\n"
          ]
        },
        {
          "output_type": "execute_result",
          "data": {
            "text/plain": [
              "<keras.callbacks.History at 0x7fec58d0c2b0>"
            ]
          },
          "metadata": {},
          "execution_count": 28
        }
      ]
    },
    {
      "cell_type": "code",
      "source": [
        "from tensorflow.keras.models import load_model\n",
        "\n",
        "# Load the saved model\n",
        "best_model = load_model(\"best_model.hdf5\")\n",
        "\n",
        "# Evaluate the model\n",
        "loss, accuracy = best_model.evaluate(X_test, y_test)\n",
        "print(\"Loss: \", loss)\n",
        "print(\"Accuracy: \", accuracy)\n",
        "\n"
      ],
      "metadata": {
        "colab": {
          "base_uri": "https://localhost:8080/"
        },
        "id": "k8C7wvPHXsrQ",
        "outputId": "f7f06ebf-f1d6-4770-a22b-8ff0df53904b"
      },
      "execution_count": null,
      "outputs": [
        {
          "output_type": "stream",
          "name": "stdout",
          "text": [
            "26/26 [==============================] - 1s 15ms/step - loss: 0.8169 - accuracy: 0.7244\n",
            "Loss:  0.8169062733650208\n",
            "Accuracy:  0.7244389057159424\n"
          ]
        }
      ]
    },
    {
      "cell_type": "code",
      "source": [
        "from sklearn.metrics import confusion_matrix, classification_report\n",
        "import seaborn as sns\n",
        "import matplotlib.pyplot as plt\n",
        "from numpy import argmax\n",
        "\n",
        "# Predict classes\n",
        "y_pred = model.predict(X_test)\n",
        "# Convert predicted class probabilities to class labels\n",
        "y_pred_classes = argmax(y_pred, axis=1)\n",
        "\n",
        "# Convert one-hot encoded y_test to class labels\n",
        "y_test_classes = argmax(y_test, axis=1)\n",
        "\n",
        "# Use LabelEncoder object 'le' to convert class labels back to original labels\n",
        "class_names = list(le.classes_)\n",
        "\n",
        "# Generate confusion matrix\n",
        "cm = confusion_matrix(y_test_classes, y_pred_classes)\n",
        "\n",
        "# Plot confusion matrix\n",
        "plt.figure(figsize=(10,10))\n",
        "sns.heatmap(cm, annot=True, fmt=\"d\", cmap='Blues', xticklabels=class_names, yticklabels=class_names)\n",
        "plt.ylabel('True label')\n",
        "plt.xlabel('Predicted label')\n",
        "plt.show()\n",
        "\n",
        "# Generate classification report\n",
        "cr = classification_report(y_test_classes, y_pred_classes, target_names=class_names)\n",
        "print(cr)\n"
      ],
      "metadata": {
        "colab": {
          "base_uri": "https://localhost:8080/",
          "height": 1000
        },
        "id": "TYAssKN9aIcj",
        "outputId": "3afd1f7a-9185-4d2c-f613-9e20cdb71c8b"
      },
      "execution_count": null,
      "outputs": [
        {
          "output_type": "stream",
          "name": "stdout",
          "text": [
            "26/26 [==============================] - 0s 10ms/step\n"
          ]
        },
        {
          "output_type": "display_data",
          "data": {
            "text/plain": [
              "<Figure size 1000x1000 with 2 Axes>"
            ],
            "image/png": "[encoded data removed]"
          },
          "metadata": {}
        },
        {
          "output_type": "stream",
          "name": "stdout",
          "text": [
            "              precision    recall  f1-score   support\n",
            "\n",
            "       akiec       0.67      0.08      0.14        26\n",
            "         bcc       0.39      0.17      0.24        41\n",
            "         bkl       0.36      0.57      0.44        88\n",
            "          df       0.50      0.11      0.18         9\n",
            "         mel       0.39      0.15      0.21        89\n",
            "          nv       0.81      0.91      0.86       537\n",
            "        vasc       1.00      0.33      0.50        12\n",
            "\n",
            "    accuracy                           0.71       802\n",
            "   macro avg       0.59      0.33      0.37       802\n",
            "weighted avg       0.69      0.71      0.67       802\n",
            "\n"
          ]
        }
      ]
    },
    {
      "cell_type": "code",
      "source": [
        "\n",
        "import tensorflow as tf\n",
        "from tensorflow.keras.applications import DenseNet121\n",
        "from tensorflow.keras.layers import Dense, GlobalAveragePooling2D, BatchNormalization\n",
        "from tensorflow.keras.models import Model\n",
        "from tensorflow.keras.optimizers import Adam\n",
        "from tensorflow.keras.callbacks import ModelCheckpoint\n",
        "from tensorflow.keras.preprocessing.image import ImageDataGenerator\n",
        "\n",
        "# Define your data augmentation\n",
        "train_datagen = ImageDataGenerator(\n",
        "    rotation_range=20,\n",
        "    width_shift_range=0.2,\n",
        "    height_shift_range=0.2,\n",
        "    horizontal_flip=True,\n",
        "    zoom_range=0.1\n",
        ")\n",
        "\n",
        "val_datagen = ImageDataGenerator()\n",
        "\n",
        "# Load the pre-trained DenseNet-121 model (weights pre-trained on ImageNet)\n",
        "base_model = DenseNet121(weights='imagenet', include_top=False, input_shape=(150, 150, 3))\n",
        "\n",
        "# Freeze some layers in the base model\n",
        "num_layers_to_freeze = 95\n",
        "for layer in base_model.layers[:num_layers_to_freeze]:\n",
        "    layer.trainable = False\n",
        "\n",
        "# Add custom classification layers on top of the base model\n",
        "x = base_model.output\n",
        "x = GlobalAveragePooling2D()(x)\n",
        "x = Dense(256, activation='relu', kernel_regularizer=tf.keras.regularizers.l2(0.01))(x)\n",
        "x = BatchNormalization()(x)\n",
        "predictions = Dense(7, activation='softmax')(x)\n",
        "\n",
        "# Create the final model\n",
        "model = Model(inputs=base_model.input, outputs=predictions)\n",
        "\n",
        "# Learning Rate Scheduler\n",
        "initial_learning_rate = 0.0005\n",
        "lr_schedule = tf.keras.optimizers.schedules.ExponentialDecay(\n",
        "    initial_learning_rate,\n",
        "    decay_steps=10000,   # Adjust decay_steps\n",
        "    decay_rate=0.9       # Adjust decay_rate\n",
        ")\n",
        "optimizer = Adam(learning_rate=lr_schedule, beta_1=0.9, beta_2=0.999, epsilon=1e-08, amsgrad=False)\n",
        "\n",
        "model.compile(optimizer=optimizer, loss=\"categorical_crossentropy\", metrics=[\"accuracy\"])\n",
        "\n",
        "# Specify where to save the model with the best validation accuracy.\n",
        "model_checkpoint_callback = ModelCheckpoint(\n",
        "    filepath=\"best_model.hdf5\",\n",
        "    save_weights_only=False,\n",
        "    monitor='val_accuracy',\n",
        "    mode='max',\n",
        "    save_best_only=True)\n",
        "\n",
        "# Fit the model\n",
        "epochs = 30\n",
        "batch_size = 200\n",
        "model.fit(\n",
        "    train_datagen.flow(X_train, y_train, batch_size=batch_size),\n",
        "    steps_per_epoch=len(X_train) // batch_size,\n",
        "    epochs=epochs,\n",
        "    validation_data=val_datagen.flow(X_val, y_val, batch_size=batch_size),\n",
        "    validation_steps=len(X_val) // batch_size,\n",
        "    callbacks=[model_checkpoint_callback]  # Add the callbacks here\n",
        ")\n"
      ],
      "metadata": {
        "colab": {
          "base_uri": "https://localhost:8080/"
        },
        "id": "vxB2y6GhblJ6",
        "outputId": "de90cabd-90f4-451b-d77b-197309a3bfb7"
      },
      "execution_count": null,
      "outputs": [
        {
          "output_type": "stream",
          "name": "stdout",
          "text": [
            "Downloading data from https://storage.googleapis.com/tensorflow/keras-applications/densenet/densenet121_weights_tf_dim_ordering_tf_kernels_notop.h5\n",
            "29084464/29084464 [==============================] - 2s 0us/step\n",
            "Epoch 1/30\n",
            "42/42 [==============================] - 103s 1s/step - loss: 4.3821 - accuracy: 0.6847 - val_loss: 3.5988 - val_accuracy: 0.7283\n",
            "Epoch 2/30\n",
            "42/42 [==============================] - 40s 949ms/step - loss: 2.6718 - accuracy: 0.8000 - val_loss: 2.6703 - val_accuracy: 0.7433\n",
            "Epoch 3/30\n",
            "42/42 [==============================] - 40s 940ms/step - loss: 1.9149 - accuracy: 0.8317 - val_loss: 2.3970 - val_accuracy: 0.7617\n",
            "Epoch 4/30\n",
            "42/42 [==============================] - 40s 946ms/step - loss: 1.4492 - accuracy: 0.8624 - val_loss: 1.9562 - val_accuracy: 0.7767\n",
            "Epoch 5/30\n",
            "42/42 [==============================] - 40s 957ms/step - loss: 1.1530 - accuracy: 0.8827 - val_loss: 1.5481 - val_accuracy: 0.7833\n",
            "Epoch 6/30\n",
            "42/42 [==============================] - 40s 955ms/step - loss: 0.9228 - accuracy: 0.8999 - val_loss: 1.2909 - val_accuracy: 0.7900\n",
            "Epoch 7/30\n",
            "42/42 [==============================] - 39s 919ms/step - loss: 0.7590 - accuracy: 0.9096 - val_loss: 1.1824 - val_accuracy: 0.7883\n",
            "Epoch 8/30\n",
            "42/42 [==============================] - 40s 954ms/step - loss: 0.6218 - accuracy: 0.9241 - val_loss: 1.1044 - val_accuracy: 0.8167\n",
            "Epoch 9/30\n",
            "42/42 [==============================] - 38s 913ms/step - loss: 0.5033 - accuracy: 0.9349 - val_loss: 1.1568 - val_accuracy: 0.7967\n",
            "Epoch 10/30\n",
            "42/42 [==============================] - 40s 948ms/step - loss: 0.4491 - accuracy: 0.9341 - val_loss: 1.1384 - val_accuracy: 0.8250\n",
            "Epoch 11/30\n",
            "42/42 [==============================] - 39s 918ms/step - loss: 0.3562 - accuracy: 0.9506 - val_loss: 0.9242 - val_accuracy: 0.8133\n",
            "Epoch 12/30\n",
            "42/42 [==============================] - 39s 925ms/step - loss: 0.3408 - accuracy: 0.9454 - val_loss: 1.1805 - val_accuracy: 0.8050\n",
            "Epoch 13/30\n",
            "42/42 [==============================] - 39s 932ms/step - loss: 0.2826 - accuracy: 0.9540 - val_loss: 0.9773 - val_accuracy: 0.7983\n",
            "Epoch 14/30\n",
            "42/42 [==============================] - 39s 925ms/step - loss: 0.2414 - accuracy: 0.9575 - val_loss: 1.6490 - val_accuracy: 0.7850\n",
            "Epoch 15/30\n",
            "42/42 [==============================] - 39s 923ms/step - loss: 0.2303 - accuracy: 0.9551 - val_loss: 1.3108 - val_accuracy: 0.7817\n",
            "Epoch 16/30\n",
            "42/42 [==============================] - 40s 943ms/step - loss: 0.2174 - accuracy: 0.9571 - val_loss: 1.1649 - val_accuracy: 0.8350\n",
            "Epoch 17/30\n",
            "42/42 [==============================] - 39s 924ms/step - loss: 0.1769 - accuracy: 0.9661 - val_loss: 1.4115 - val_accuracy: 0.7983\n",
            "Epoch 18/30\n",
            "42/42 [==============================] - 38s 909ms/step - loss: 0.1671 - accuracy: 0.9661 - val_loss: 1.1309 - val_accuracy: 0.8017\n",
            "Epoch 19/30\n",
            "42/42 [==============================] - 39s 914ms/step - loss: 0.1383 - accuracy: 0.9720 - val_loss: 1.4346 - val_accuracy: 0.7917\n",
            "Epoch 20/30\n",
            "42/42 [==============================] - 39s 917ms/step - loss: 0.1382 - accuracy: 0.9691 - val_loss: 1.3194 - val_accuracy: 0.8250\n",
            "Epoch 21/30\n",
            "42/42 [==============================] - 39s 927ms/step - loss: 0.1371 - accuracy: 0.9694 - val_loss: 0.9340 - val_accuracy: 0.8183\n",
            "Epoch 22/30\n",
            "42/42 [==============================] - 38s 904ms/step - loss: 0.1130 - accuracy: 0.9724 - val_loss: 1.3591 - val_accuracy: 0.7933\n",
            "Epoch 23/30\n",
            "42/42 [==============================] - 39s 929ms/step - loss: 0.1277 - accuracy: 0.9688 - val_loss: 1.3229 - val_accuracy: 0.8100\n",
            "Epoch 24/30\n",
            "42/42 [==============================] - 39s 924ms/step - loss: 0.1139 - accuracy: 0.9744 - val_loss: 0.9284 - val_accuracy: 0.8217\n",
            "Epoch 25/30\n",
            "42/42 [==============================] - 39s 918ms/step - loss: 0.0920 - accuracy: 0.9799 - val_loss: 1.0988 - val_accuracy: 0.7983\n",
            "Epoch 26/30\n",
            "42/42 [==============================] - 39s 935ms/step - loss: 0.0931 - accuracy: 0.9787 - val_loss: 1.0552 - val_accuracy: 0.8517\n",
            "Epoch 27/30\n",
            "42/42 [==============================] - 39s 925ms/step - loss: 0.0870 - accuracy: 0.9780 - val_loss: 1.1537 - val_accuracy: 0.8350\n",
            "Epoch 28/30\n",
            "42/42 [==============================] - 39s 915ms/step - loss: 0.0940 - accuracy: 0.9761 - val_loss: 1.1540 - val_accuracy: 0.8483\n",
            "Epoch 29/30\n",
            "42/42 [==============================] - 39s 917ms/step - loss: 0.0845 - accuracy: 0.9791 - val_loss: 1.3906 - val_accuracy: 0.8000\n",
            "Epoch 30/30\n",
            "42/42 [==============================] - 39s 914ms/step - loss: 0.0960 - accuracy: 0.9769 - val_loss: 1.6409 - val_accuracy: 0.8067\n"
          ]
        },
        {
          "output_type": "execute_result",
          "data": {
            "text/plain": [
              "<keras.callbacks.History at 0x7fe9a2693280>"
            ]
          },
          "metadata": {},
          "execution_count": 36
        }
      ]
    },
    {
      "cell_type": "code",
      "source": [
        "from tensorflow.keras.models import load_model\n",
        "\n",
        "# Load the saved model\n",
        "best_model1 = load_model(\"best_model.hdf5\")\n",
        "\n",
        "# Evaluate the model\n",
        "loss, accuracy = best_model1.evaluate(X_test, y_test)\n",
        "print(\"Loss: \", loss)\n",
        "print(\"Accuracy: \", accuracy)"
      ],
      "metadata": {
        "colab": {
          "base_uri": "https://localhost:8080/",
          "height": 399
        },
        "id": "tq3WyjGnh9Uh",
        "outputId": "f0004070-0c0b-4d4a-e9bd-90fef431d16d"
      },
      "execution_count": null,
      "outputs": [
        {
          "output_type": "error",
          "ename": "OSError",
          "evalue": "ignored",
          "traceback": [
            "\u001b[0;31m---------------------------------------------------------------------------\u001b[0m",
            "\u001b[0;31mOSError\u001b[0m                                   Traceback (most recent call last)",
            "\u001b[0;32m<ipython-input-1-36c17334406f>\u001b[0m in \u001b[0;36m<cell line: 4>\u001b[0;34m()\u001b[0m\n\u001b[1;32m      2\u001b[0m \u001b[0;34m\u001b[0m\u001b[0m\n\u001b[1;32m      3\u001b[0m \u001b[0;31m# Load the saved model\u001b[0m\u001b[0;34m\u001b[0m\u001b[0;34m\u001b[0m\u001b[0m\n\u001b[0;32m----> 4\u001b[0;31m \u001b[0mbest_model1\u001b[0m \u001b[0;34m=\u001b[0m \u001b[0mload_model\u001b[0m\u001b[0;34m(\u001b[0m\u001b[0;34m\"best_model.hdf5\"\u001b[0m\u001b[0;34m)\u001b[0m\u001b[0;34m\u001b[0m\u001b[0;34m\u001b[0m\u001b[0m\n\u001b[0m\u001b[1;32m      5\u001b[0m \u001b[0;34m\u001b[0m\u001b[0m\n\u001b[1;32m      6\u001b[0m \u001b[0;31m# Evaluate the model\u001b[0m\u001b[0;34m\u001b[0m\u001b[0;34m\u001b[0m\u001b[0m\n",
            "\u001b[0;32m/usr/local/lib/python3.10/dist-packages/keras/saving/saving_api.py\u001b[0m in \u001b[0;36mload_model\u001b[0;34m(filepath, custom_objects, compile, safe_mode, **kwargs)\u001b[0m\n\u001b[1;32m    210\u001b[0m \u001b[0;34m\u001b[0m\u001b[0m\n\u001b[1;32m    211\u001b[0m     \u001b[0;31m# Legacy case.\u001b[0m\u001b[0;34m\u001b[0m\u001b[0;34m\u001b[0m\u001b[0m\n\u001b[0;32m--> 212\u001b[0;31m     return legacy_sm_saving_lib.load_model(\n\u001b[0m\u001b[1;32m    213\u001b[0m         \u001b[0mfilepath\u001b[0m\u001b[0;34m,\u001b[0m \u001b[0mcustom_objects\u001b[0m\u001b[0;34m=\u001b[0m\u001b[0mcustom_objects\u001b[0m\u001b[0;34m,\u001b[0m \u001b[0mcompile\u001b[0m\u001b[0;34m=\u001b[0m\u001b[0mcompile\u001b[0m\u001b[0;34m,\u001b[0m \u001b[0;34m**\u001b[0m\u001b[0mkwargs\u001b[0m\u001b[0;34m\u001b[0m\u001b[0;34m\u001b[0m\u001b[0m\n\u001b[1;32m    214\u001b[0m     )\n",
            "\u001b[0;32m/usr/local/lib/python3.10/dist-packages/keras/utils/traceback_utils.py\u001b[0m in \u001b[0;36merror_handler\u001b[0;34m(*args, **kwargs)\u001b[0m\n\u001b[1;32m     68\u001b[0m             \u001b[0;31m# To get the full stack trace, call:\u001b[0m\u001b[0;34m\u001b[0m\u001b[0;34m\u001b[0m\u001b[0m\n\u001b[1;32m     69\u001b[0m             \u001b[0;31m# `tf.debugging.disable_traceback_filtering()`\u001b[0m\u001b[0;34m\u001b[0m\u001b[0;34m\u001b[0m\u001b[0m\n\u001b[0;32m---> 70\u001b[0;31m             \u001b[0;32mraise\u001b[0m \u001b[0me\u001b[0m\u001b[0;34m.\u001b[0m\u001b[0mwith_traceback\u001b[0m\u001b[0;34m(\u001b[0m\u001b[0mfiltered_tb\u001b[0m\u001b[0;34m)\u001b[0m \u001b[0;32mfrom\u001b[0m \u001b[0;32mNone\u001b[0m\u001b[0;34m\u001b[0m\u001b[0;34m\u001b[0m\u001b[0m\n\u001b[0m\u001b[1;32m     71\u001b[0m         \u001b[0;32mfinally\u001b[0m\u001b[0;34m:\u001b[0m\u001b[0;34m\u001b[0m\u001b[0;34m\u001b[0m\u001b[0m\n\u001b[1;32m     72\u001b[0m             \u001b[0;32mdel\u001b[0m \u001b[0mfiltered_tb\u001b[0m\u001b[0;34m\u001b[0m\u001b[0;34m\u001b[0m\u001b[0m\n",
            "\u001b[0;32m/usr/local/lib/python3.10/dist-packages/keras/saving/legacy/save.py\u001b[0m in \u001b[0;36mload_model\u001b[0;34m(filepath, custom_objects, compile, options)\u001b[0m\n\u001b[1;32m    228\u001b[0m                     \u001b[0;32mif\u001b[0m \u001b[0misinstance\u001b[0m\u001b[0;34m(\u001b[0m\u001b[0mfilepath_str\u001b[0m\u001b[0;34m,\u001b[0m \u001b[0mstr\u001b[0m\u001b[0;34m)\u001b[0m\u001b[0;34m:\u001b[0m\u001b[0;34m\u001b[0m\u001b[0;34m\u001b[0m\u001b[0m\n\u001b[1;32m    229\u001b[0m                         \u001b[0;32mif\u001b[0m \u001b[0;32mnot\u001b[0m \u001b[0mtf\u001b[0m\u001b[0;34m.\u001b[0m\u001b[0mio\u001b[0m\u001b[0;34m.\u001b[0m\u001b[0mgfile\u001b[0m\u001b[0;34m.\u001b[0m\u001b[0mexists\u001b[0m\u001b[0;34m(\u001b[0m\u001b[0mfilepath_str\u001b[0m\u001b[0;34m)\u001b[0m\u001b[0;34m:\u001b[0m\u001b[0;34m\u001b[0m\u001b[0;34m\u001b[0m\u001b[0m\n\u001b[0;32m--> 230\u001b[0;31m                             raise IOError(\n\u001b[0m\u001b[1;32m    231\u001b[0m                                 \u001b[0;34mf\"No file or directory found at {filepath_str}\"\u001b[0m\u001b[0;34m\u001b[0m\u001b[0;34m\u001b[0m\u001b[0m\n\u001b[1;32m    232\u001b[0m                             )\n",
            "\u001b[0;31mOSError\u001b[0m: No file or directory found at best_model.hdf5"
          ]
        }
      ]
    },
    {
      "cell_type": "code",
      "source": [
        "from sklearn.metrics import confusion_matrix, classification_report\n",
        "import seaborn as sns\n",
        "import matplotlib.pyplot as plt\n",
        "from numpy import argmax\n",
        "\n",
        "# Predict classes\n",
        "y_pred = model.predict(X_test)\n",
        "# Convert predicted class probabilities to class labels\n",
        "y_pred_classes = argmax(y_pred, axis=1)\n",
        "\n",
        "# Convert one-hot encoded y_test to class labels\n",
        "y_test_classes = argmax(y_test, axis=1)\n",
        "\n",
        "# Use LabelEncoder object 'le' to convert class labels back to original labels\n",
        "class_names = list(le.classes_)\n",
        "\n",
        "# Generate confusion matrix\n",
        "cm = confusion_matrix(y_test_classes, y_pred_classes)\n",
        "\n",
        "# Plot confusion matrix\n",
        "plt.figure(figsize=(10,10))\n",
        "sns.heatmap(cm, annot=True, fmt=\"d\", xticklabels=class_names, yticklabels=class_names)\n",
        "plt.ylabel('True label')\n",
        "plt.xlabel('Predicted label')\n",
        "plt.show()\n",
        "\n",
        "# Generate classification report\n",
        "cr = classification_report(y_test_classes, y_pred_classes, target_names=class_names)\n",
        "print(cr)\n"
      ],
      "metadata": {
        "colab": {
          "base_uri": "https://localhost:8080/",
          "height": 1000
        },
        "id": "zEe24zv2iHhx",
        "outputId": "871606ed-544c-41dd-810d-ec8d00685342"
      },
      "execution_count": null,
      "outputs": [
        {
          "output_type": "stream",
          "name": "stdout",
          "text": [
            "26/26 [==============================] - 0s 13ms/step\n"
          ]
        },
        {
          "output_type": "display_data",
          "data": {
            "text/plain": [
              "<Figure size 1000x1000 with 2 Axes>"
            ],
            "image/png": "[encoded data removed]"
          },
          "metadata": {}
        },
        {
          "output_type": "stream",
          "name": "stdout",
          "text": [
            "              precision    recall  f1-score   support\n",
            "\n",
            "       akiec       0.80      0.31      0.44        26\n",
            "         bcc       0.86      0.59      0.70        41\n",
            "         bkl       0.51      0.80      0.62        88\n",
            "          df       0.78      0.78      0.78         9\n",
            "         mel       0.55      0.57      0.56        89\n",
            "          nv       0.94      0.91      0.92       537\n",
            "        vasc       0.91      0.83      0.87        12\n",
            "\n",
            "    accuracy                           0.82       802\n",
            "   macro avg       0.76      0.68      0.70       802\n",
            "weighted avg       0.84      0.82      0.82       802\n",
            "\n"
          ]
        }
      ]
    }
  ]
}